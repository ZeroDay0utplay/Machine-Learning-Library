{
 "cells": [
  {
   "cell_type": "code",
   "execution_count": 1,
   "id": "c65e23dd",
   "metadata": {},
   "outputs": [
    {
     "name": "stdout",
     "output_type": "stream",
     "text": [
      "Defaulting to user installation because normal site-packages is not writeable\n",
      "Processing ./dist/mlib-0.0.4-py3-none-any.whl\n",
      "Installing collected packages: mlib\n",
      "  Attempting uninstall: mlib\n",
      "    Found existing installation: mlib 0.0.4\n",
      "    Uninstalling mlib-0.0.4:\n",
      "      Successfully uninstalled mlib-0.0.4\n",
      "Successfully installed mlib-0.0.4\n"
     ]
    }
   ],
   "source": [
    "!pip install /home/zdo/Documents/Projects/ML/Machine-Learning-Library/dist/mlib-0.0.4-py3-none-any.whl --force-reinstall"
   ]
  },
  {
   "cell_type": "code",
   "execution_count": 2,
   "id": "6a4b1ee9",
   "metadata": {},
   "outputs": [],
   "source": [
    "import pandas as pd\n",
    "import numpy as np\n",
    "import seaborn as sns\n",
    "from mlib.LinearRegression import LinearRegression\n",
    "from sklearn.preprocessing import StandardScaler"
   ]
  },
  {
   "cell_type": "code",
   "execution_count": 3,
   "id": "ce4779ac",
   "metadata": {},
   "outputs": [],
   "source": [
    "training = pd.read_csv(\"DS/LinearRegression/swedish_insurance.csv\")"
   ]
  },
  {
   "cell_type": "code",
   "execution_count": 4,
   "id": "e9953e2e",
   "metadata": {},
   "outputs": [],
   "source": [
    "X_train = training[\"X\"]\n",
    "y_train = training[\"Y\"]"
   ]
  },
  {
   "cell_type": "code",
   "execution_count": 5,
   "id": "c6783450",
   "metadata": {},
   "outputs": [],
   "source": [
    "X_train = np.asanyarray(X_train).reshape(-1,1)"
   ]
  },
  {
   "cell_type": "code",
   "execution_count": 6,
   "id": "4f93d3e6",
   "metadata": {},
   "outputs": [],
   "source": [
    "scale = StandardScaler()\n",
    "X_train = scale.fit_transform(X_train)"
   ]
  },
  {
   "cell_type": "code",
   "execution_count": 7,
   "id": "9762f5b8",
   "metadata": {},
   "outputs": [],
   "source": [
    "lr = LinearRegression(X_train, y_train)"
   ]
  },
  {
   "cell_type": "code",
   "execution_count": 29,
   "id": "0c100ec6",
   "metadata": {},
   "outputs": [
    {
     "name": "stdout",
     "output_type": "stream",
     "text": [
      "[+] Epochs: 0/1000 Cost Function : 33477432\n",
      "[+] Epochs: 10/1000 Cost Function : 12773704\n",
      "[+] Epochs: 20/1000 Cost Function : 77031695\n",
      "[+] Epochs: 30/1000 Cost Function : 425903365\n",
      "[+] Epochs: 40/1000 Cost Function : 1238453619\n",
      "[+] Epochs: 50/1000 Cost Function : 2634708463\n",
      "[+] Epochs: 60/1000 Cost Function : 4669171844\n",
      "[+] Epochs: 70/1000 Cost Function : 7339231461\n",
      "[+] Epochs: 80/1000 Cost Function : 10599002593\n",
      "[+] Epochs: 90/1000 Cost Function : 14373695485\n",
      "[+] Epochs: 100/1000 Cost Function : 18572217021\n",
      "[+] Epochs: 110/1000 Cost Function : 23097178556\n",
      "[+] Epochs: 120/1000 Cost Function : 27852247493\n",
      "[+] Epochs: 130/1000 Cost Function : 32747141131\n",
      "[+] Epochs: 140/1000 Cost Function : 37700695143\n",
      "[+] Epochs: 150/1000 Cost Function : 42642452548\n",
      "[+] Epochs: 160/1000 Cost Function : 47513174652\n",
      "[+] Epochs: 170/1000 Cost Function : 52264608672\n",
      "[+] Epochs: 180/1000 Cost Function : 56858776486\n",
      "[+] Epochs: 190/1000 Cost Function : 61266984659\n",
      "[+] Epochs: 200/1000 Cost Function : 65468701313\n",
      "[+] Epochs: 210/1000 Cost Function : 69450401412\n",
      "[+] Epochs: 220/1000 Cost Function : 73204447890\n",
      "[+] Epochs: 230/1000 Cost Function : 76728050412\n",
      "[+] Epochs: 240/1000 Cost Function : 80022324931\n",
      "[+] Epochs: 250/1000 Cost Function : 83091464057\n",
      "[+] Epochs: 260/1000 Cost Function : 85942019358\n",
      "[+] Epochs: 270/1000 Cost Function : 88582290994\n",
      "[+] Epochs: 280/1000 Cost Function : 91021816620\n",
      "[+] Epochs: 290/1000 Cost Function : 93270949726\n",
      "[+] Epochs: 300/1000 Cost Function : 95340516882\n",
      "[+] Epochs: 310/1000 Cost Function : 97241543421\n",
      "[+] Epochs: 320/1000 Cost Function : 98985037660\n",
      "[+] Epochs: 330/1000 Cost Function : 100581824504\n",
      "[+] Epochs: 340/1000 Cost Function : 102042420272\n",
      "[+] Epochs: 350/1000 Cost Function : 103376941510\n",
      "[+] Epochs: 360/1000 Cost Function : 104595041552\n",
      "[+] Epochs: 370/1000 Cost Function : 105705869442\n",
      "[+] Epochs: 380/1000 Cost Function : 106718046688\n",
      "[+] Epochs: 390/1000 Cost Function : 107639658021\n",
      "[+] Epochs: 400/1000 Cost Function : 108478252994\n",
      "[+] Epochs: 410/1000 Cost Function : 109240855804\n",
      "[+] Epochs: 420/1000 Cost Function : 109933981198\n",
      "[+] Epochs: 430/1000 Cost Function : 110563654731\n",
      "[+] Epochs: 440/1000 Cost Function : 111135435995\n",
      "[+] Epochs: 450/1000 Cost Function : 111654443701\n",
      "[+] Epochs: 460/1000 Cost Function : 112125381760\n",
      "[+] Epochs: 470/1000 Cost Function : 112552565679\n",
      "[+] Epochs: 480/1000 Cost Function : 112939948765\n",
      "[+] Epochs: 490/1000 Cost Function : 113291147759\n",
      "[+] Epochs: 500/1000 Cost Function : 113609467594\n",
      "[+] Epochs: 510/1000 Cost Function : 113897925125\n",
      "[+] Epochs: 520/1000 Cost Function : 114159271653\n",
      "[+] Epochs: 530/1000 Cost Function : 114396014203\n",
      "[+] Epochs: 540/1000 Cost Function : 114610435496\n",
      "[+] Epochs: 550/1000 Cost Function : 114804612620\n",
      "[+] Epochs: 560/1000 Cost Function : 114980434416\n",
      "[+] Epochs: 570/1000 Cost Function : 115139617603\n",
      "[+] Epochs: 580/1000 Cost Function : 115283721707\n",
      "[+] Epochs: 590/1000 Cost Function : 115414162831\n",
      "[+] Epochs: 600/1000 Cost Function : 115532226340\n",
      "[+] Epochs: 610/1000 Cost Function : 115639078515\n",
      "[+] Epochs: 620/1000 Cost Function : 115735777249\n",
      "[+] Epochs: 630/1000 Cost Function : 115823281845\n",
      "[+] Epochs: 640/1000 Cost Function : 115902461976\n",
      "[+] Epochs: 650/1000 Cost Function : 115974105873\n",
      "[+] Epochs: 660/1000 Cost Function : 116038927808\n",
      "[+] Epochs: 670/1000 Cost Function : 116097574903\n",
      "[+] Epochs: 680/1000 Cost Function : 116150633345\n",
      "[+] Epochs: 690/1000 Cost Function : 116198634043\n",
      "[+] Epochs: 700/1000 Cost Function : 116242057771\n",
      "[+] Epochs: 710/1000 Cost Function : 116281339847\n",
      "[+] Epochs: 720/1000 Cost Function : 116316874390\n",
      "[+] Epochs: 730/1000 Cost Function : 116349018177\n",
      "[+] Epochs: 740/1000 Cost Function : 116378094155\n",
      "[+] Epochs: 750/1000 Cost Function : 116404394620\n",
      "[+] Epochs: 760/1000 Cost Function : 116428184113\n",
      "[+] Epochs: 770/1000 Cost Function : 116449702030\n",
      "[+] Epochs: 780/1000 Cost Function : 116469165006\n",
      "[+] Epochs: 790/1000 Cost Function : 116486769065\n",
      "[+] Epochs: 800/1000 Cost Function : 116502691572\n",
      "[+] Epochs: 810/1000 Cost Function : 116517093001\n",
      "[+] Epochs: 820/1000 Cost Function : 116530118541\n",
      "[+] Epochs: 830/1000 Cost Function : 116541899542\n",
      "[+] Epochs: 840/1000 Cost Function : 116552554834\n",
      "[+] Epochs: 850/1000 Cost Function : 116562191915\n",
      "[+] Epochs: 860/1000 Cost Function : 116570908032\n",
      "[+] Epochs: 870/1000 Cost Function : 116578791151\n",
      "[+] Epochs: 880/1000 Cost Function : 116585920845\n",
      "[+] Epochs: 890/1000 Cost Function : 116592369093\n",
      "[+] Epochs: 900/1000 Cost Function : 116598201002\n",
      "[+] Epochs: 910/1000 Cost Function : 116603475464\n",
      "[+] Epochs: 920/1000 Cost Function : 116608245746\n",
      "[+] Epochs: 930/1000 Cost Function : 116612560029\n",
      "[+] Epochs: 940/1000 Cost Function : 116616461892\n",
      "[+] Epochs: 950/1000 Cost Function : 116619990751\n",
      "[+] Epochs: 960/1000 Cost Function : 116623182256\n",
      "[+] Epochs: 970/1000 Cost Function : 116626068653\n",
      "[+] Epochs: 980/1000 Cost Function : 116628679104\n",
      "[+] Epochs: 990/1000 Cost Function : 116631039987\n"
     ]
    },
    {
     "data": {
      "text/plain": [
       "(array([79.08078331]), 98.18306271901216)"
      ]
     },
     "execution_count": 29,
     "metadata": {},
     "output_type": "execute_result"
    }
   ],
   "source": [
    "lr.train(learning_rate=0.01, epochs=1000)"
   ]
  },
  {
   "cell_type": "code",
   "execution_count": 30,
   "id": "d577967a",
   "metadata": {},
   "outputs": [],
   "source": [
    "y_pred = lr.predict(X_train)"
   ]
  },
  {
   "cell_type": "code",
   "execution_count": 31,
   "id": "bbab8999",
   "metadata": {},
   "outputs": [
    {
     "name": "stdout",
     "output_type": "stream",
     "text": [
      "[+] Accuracy: 83.33466680321736%\n"
     ]
    },
    {
     "data": {
      "text/plain": [
       "0.8333466680321736"
      ]
     },
     "execution_count": 31,
     "metadata": {},
     "output_type": "execute_result"
    }
   ],
   "source": [
    "lr.accuracy(X_train, y_train, error=\"r2\")"
   ]
  },
  {
   "cell_type": "code",
   "execution_count": 48,
   "id": "617588f4",
   "metadata": {},
   "outputs": [
    {
     "data": {
      "image/png": "[encoded data removed]",
      "text/plain": [
       "<Figure size 640x480 with 1 Axes>"
      ]
     },
     "metadata": {},
     "output_type": "display_data"
    }
   ],
   "source": [
    "import matplotlib.pyplot as plt\n",
    "\n",
    "plt.scatter(training[\"X\"], y_train, color=\"blue\")\n",
    "plt.plot(training[\"X\"], y_pred, \"r\")\n",
    "plt.xlabel(\"X\")\n",
    "plt.ylabel(\"Y\")\n",
    "plt.show()"
   ]
  },
  {
   "cell_type": "markdown",
   "id": "1bd3f686",
   "metadata": {},
   "source": [
    "# Sklearn Implementation"
   ]
  },
  {
   "cell_type": "code",
   "execution_count": 32,
   "id": "c6906d60",
   "metadata": {},
   "outputs": [
    {
     "data": {
      "text/html": [
       "<style>#sk-container-id-2 {color: black;background-color: white;}#sk-container-id-2 pre{padding: 0;}#sk-container-id-2 div.sk-toggleable {background-color: white;}#sk-container-id-2 label.sk-toggleable__label {cursor: pointer;display: block;width: 100%;margin-bottom: 0;padding: 0.3em;box-sizing: border-box;text-align: center;}#sk-container-id-2 label.sk-toggleable__label-arrow:before {content: \"▸\";float: left;margin-right: 0.25em;color: #696969;}#sk-container-id-2 label.sk-toggleable__label-arrow:hover:before {color: black;}#sk-container-id-2 div.sk-estimator:hover label.sk-toggleable__label-arrow:before {color: black;}#sk-container-id-2 div.sk-toggleable__content {max-height: 0;max-width: 0;overflow: hidden;text-align: left;background-color: #f0f8ff;}#sk-container-id-2 div.sk-toggleable__content pre {margin: 0.2em;color: black;border-radius: 0.25em;background-color: #f0f8ff;}#sk-container-id-2 input.sk-toggleable__control:checked~div.sk-toggleable__content {max-height: 200px;max-width: 100%;overflow: auto;}#sk-container-id-2 input.sk-toggleable__control:checked~label.sk-toggleable__label-arrow:before {content: \"▾\";}#sk-container-id-2 div.sk-estimator input.sk-toggleable__control:checked~label.sk-toggleable__label {background-color: #d4ebff;}#sk-container-id-2 div.sk-label input.sk-toggleable__control:checked~label.sk-toggleable__label {background-color: #d4ebff;}#sk-container-id-2 input.sk-hidden--visually {border: 0;clip: rect(1px 1px 1px 1px);clip: rect(1px, 1px, 1px, 1px);height: 1px;margin: -1px;overflow: hidden;padding: 0;position: absolute;width: 1px;}#sk-container-id-2 div.sk-estimator {font-family: monospace;background-color: #f0f8ff;border: 1px dotted black;border-radius: 0.25em;box-sizing: border-box;margin-bottom: 0.5em;}#sk-container-id-2 div.sk-estimator:hover {background-color: #d4ebff;}#sk-container-id-2 div.sk-parallel-item::after {content: \"\";width: 100%;border-bottom: 1px solid gray;flex-grow: 1;}#sk-container-id-2 div.sk-label:hover label.sk-toggleable__label {background-color: #d4ebff;}#sk-container-id-2 div.sk-serial::before {content: \"\";position: absolute;border-left: 1px solid gray;box-sizing: border-box;top: 0;bottom: 0;left: 50%;z-index: 0;}#sk-container-id-2 div.sk-serial {display: flex;flex-direction: column;align-items: center;background-color: white;padding-right: 0.2em;padding-left: 0.2em;position: relative;}#sk-container-id-2 div.sk-item {position: relative;z-index: 1;}#sk-container-id-2 div.sk-parallel {display: flex;align-items: stretch;justify-content: center;background-color: white;position: relative;}#sk-container-id-2 div.sk-item::before, #sk-container-id-2 div.sk-parallel-item::before {content: \"\";position: absolute;border-left: 1px solid gray;box-sizing: border-box;top: 0;bottom: 0;left: 50%;z-index: -1;}#sk-container-id-2 div.sk-parallel-item {display: flex;flex-direction: column;z-index: 1;position: relative;background-color: white;}#sk-container-id-2 div.sk-parallel-item:first-child::after {align-self: flex-end;width: 50%;}#sk-container-id-2 div.sk-parallel-item:last-child::after {align-self: flex-start;width: 50%;}#sk-container-id-2 div.sk-parallel-item:only-child::after {width: 0;}#sk-container-id-2 div.sk-dashed-wrapped {border: 1px dashed gray;margin: 0 0.4em 0.5em 0.4em;box-sizing: border-box;padding-bottom: 0.4em;background-color: white;}#sk-container-id-2 div.sk-label label {font-family: monospace;font-weight: bold;display: inline-block;line-height: 1.2em;}#sk-container-id-2 div.sk-label-container {text-align: center;}#sk-container-id-2 div.sk-container {/* jupyter's `normalize.less` sets `[hidden] { display: none; }` but bootstrap.min.css set `[hidden] { display: none !important; }` so we also need the `!important` here to be able to override the default hidden behavior on the sphinx rendered scikit-learn.org. See: https://github.com/scikit-learn/scikit-learn/issues/21755 */display: inline-block !important;position: relative;}#sk-container-id-2 div.sk-text-repr-fallback {display: none;}</style><div id=\"sk-container-id-2\" class=\"sk-top-container\"><div class=\"sk-text-repr-fallback\"><pre>LinearRegression()</pre><b>In a Jupyter environment, please rerun this cell to show the HTML representation or trust the notebook. <br />On GitHub, the HTML representation is unable to render, please try loading this page with nbviewer.org.</b></div><div class=\"sk-container\" hidden><div class=\"sk-item\"><div class=\"sk-estimator sk-toggleable\"><input class=\"sk-toggleable__control sk-hidden--visually\" id=\"sk-estimator-id-2\" type=\"checkbox\" checked><label for=\"sk-estimator-id-2\" class=\"sk-toggleable__label sk-toggleable__label-arrow\">LinearRegression</label><div class=\"sk-toggleable__content\"><pre>LinearRegression()</pre></div></div></div></div></div>"
      ],
      "text/plain": [
       "LinearRegression()"
      ]
     },
     "execution_count": 32,
     "metadata": {},
     "output_type": "execute_result"
    }
   ],
   "source": [
    "from sklearn.linear_model import LinearRegression\n",
    "reg = LinearRegression()\n",
    "reg.fit(X_train, y_train)"
   ]
  },
  {
   "cell_type": "code",
   "execution_count": 33,
   "id": "594ccf5d",
   "metadata": {},
   "outputs": [],
   "source": [
    "pred = lr.predict(X_train)"
   ]
  },
  {
   "cell_type": "code",
   "execution_count": 34,
   "id": "6906f59d",
   "metadata": {},
   "outputs": [
    {
     "data": {
      "text/plain": [
       "0.8333466719794502"
      ]
     },
     "execution_count": 34,
     "metadata": {},
     "output_type": "execute_result"
    }
   ],
   "source": [
    "reg.score(X_train, y_train)"
   ]
  },
  {
   "cell_type": "code",
   "execution_count": 49,
   "id": "5a19adf1",
   "metadata": {},
   "outputs": [
    {
     "data": {
      "image/png": "[encoded data removed]",
      "text/plain": [
       "<Figure size 640x480 with 1 Axes>"
      ]
     },
     "metadata": {},
     "output_type": "display_data"
    }
   ],
   "source": [
    "import matplotlib.pyplot as plt\n",
    "\n",
    "plt.scatter(training[\"X\"], y_train, color=\"blue\")\n",
    "plt.plot(training[\"X\"], pred, \"r\")\n",
    "plt.xlabel(\"X\")\n",
    "plt.ylabel(\"Y\")\n",
    "plt.show()"
   ]
  },
  {
   "cell_type": "code",
   "execution_count": null,
   "id": "a93a68df",
   "metadata": {},
   "outputs": [],
   "source": []
  }
 ],
 "metadata": {
  "kernelspec": {
   "display_name": "Python 3 (ipykernel)",
   "language": "python",
   "name": "python3"
  },
  "language_info": {
   "codemirror_mode": {
    "name": "ipython",
    "version": 3
   },
   "file_extension": ".py",
   "mimetype": "text/x-python",
   "name": "python",
   "nbconvert_exporter": "python",
   "pygments_lexer": "ipython3",
   "version": "3.10.6"
  }
 },
 "nbformat": 4,
 "nbformat_minor": 5
}
