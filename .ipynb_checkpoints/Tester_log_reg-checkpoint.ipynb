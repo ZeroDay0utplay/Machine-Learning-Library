{
 "cells": [
  {
   "cell_type": "code",
   "execution_count": 1,
   "id": "c7be8357",
   "metadata": {},
   "outputs": [
    {
     "name": "stdout",
     "output_type": "stream",
     "text": [
      "Defaulting to user installation because normal site-packages is not writeable\n",
      "Processing ./dist/mlib-0.0.4-py3-none-any.whl\n",
      "Installing collected packages: mlib\n",
      "  Attempting uninstall: mlib\n",
      "    Found existing installation: mlib 0.0.4\n",
      "    Uninstalling mlib-0.0.4:\n",
      "      Successfully uninstalled mlib-0.0.4\n",
      "Successfully installed mlib-0.0.4\n"
     ]
    }
   ],
   "source": [
    "!pip3 install ./dist/mlib-0.0.4-py3-none-any.whl --force-reinstall"
   ]
  },
  {
   "cell_type": "code",
   "execution_count": 2,
   "id": "c1d0f62c",
   "metadata": {},
   "outputs": [],
   "source": [
    "import pandas as pd\n",
    "import numpy as np\n",
    "from mlib.sl import LogisticRegression"
   ]
  },
  {
   "cell_type": "code",
   "execution_count": 3,
   "id": "12d31e66",
   "metadata": {},
   "outputs": [],
   "source": [
    "training = pd.read_csv(\"DS/iris-data.csv\")\n",
    "mean_value = training[\"petal_length_cm\"].mean()\n",
    "training = training.fillna(value=mean_value)"
   ]
  },
  {
   "cell_type": "code",
   "execution_count": 4,
   "id": "27825cec",
   "metadata": {},
   "outputs": [],
   "source": [
    "def one_hot_encoding(df, feature):\n",
    "    uniq_relations = list(df[feature].unique())\n",
    "    # To get the same order of features in the prediction\n",
    "    uniq_relations.sort()\n",
    "    for unq in uniq_relations:\n",
    "        df[unq] = np.where(df[feature] == unq, 1, 0)\n",
    "    df = df.drop(feature, axis=\"columns\")\n",
    "    return df"
   ]
  },
  {
   "cell_type": "code",
   "execution_count": 5,
   "id": "3cae30d7",
   "metadata": {},
   "outputs": [],
   "source": [
    "X_train = training.loc[:, training.columns != \"class\"]"
   ]
  },
  {
   "cell_type": "code",
   "execution_count": 6,
   "id": "69303bd5",
   "metadata": {},
   "outputs": [],
   "source": [
    "training[\"class\"] = training[\"class\"].astype(str)"
   ]
  },
  {
   "cell_type": "code",
   "execution_count": 7,
   "id": "b6163645",
   "metadata": {},
   "outputs": [
    {
     "name": "stderr",
     "output_type": "stream",
     "text": [
      "/tmp/ipykernel_7817/4088417815.py:3: SettingWithCopyWarning: \n",
      "A value is trying to be set on a copy of a slice from a DataFrame\n",
      "\n",
      "See the caveats in the documentation: https://pandas.pydata.org/pandas-docs/stable/user_guide/indexing.html#returning-a-view-versus-a-copy\n",
      "  training[\"class\"][i] = \"Iris-setosa\"\n",
      "/tmp/ipykernel_7817/4088417815.py:5: SettingWithCopyWarning: \n",
      "A value is trying to be set on a copy of a slice from a DataFrame\n",
      "\n",
      "See the caveats in the documentation: https://pandas.pydata.org/pandas-docs/stable/user_guide/indexing.html#returning-a-view-versus-a-copy\n",
      "  training[\"class\"][i] = \"Iris-versicolor\"\n"
     ]
    }
   ],
   "source": [
    "for i in range(len(training[\"class\"])):\n",
    "    if training[\"class\"][i] == \"Iris-setossa\":\n",
    "        training[\"class\"][i] = \"Iris-setosa\"\n",
    "    elif training[\"class\"][i] == \"versicolor\":\n",
    "        training[\"class\"][i] = \"Iris-versicolor\""
   ]
  },
  {
   "cell_type": "code",
   "execution_count": 8,
   "id": "dfe0d8ce",
   "metadata": {},
   "outputs": [],
   "source": [
    "training = one_hot_encoding(training, \"class\")"
   ]
  },
  {
   "cell_type": "code",
   "execution_count": 9,
   "id": "b656e0e0",
   "metadata": {},
   "outputs": [],
   "source": [
    "setosa = training[\"Iris-setosa\"]\n",
    "versicolor = training[\"Iris-versicolor\"]\n",
    "virginica = training[\"Iris-virginica\"]"
   ]
  },
  {
   "cell_type": "code",
   "execution_count": 10,
   "id": "eee53dbb",
   "metadata": {},
   "outputs": [],
   "source": [
    "X_train = X_train.loc[:, X_train.columns != \"Iris-virginica\"]\n",
    "X_train = X_train.loc[:, X_train.columns != \"Iris-setosa\"]\n",
    "X_train = X_train.loc[:, X_train.columns != \"Iris-versicolor\"]"
   ]
  },
  {
   "cell_type": "code",
   "execution_count": 11,
   "id": "e1bb043b",
   "metadata": {},
   "outputs": [],
   "source": [
    "X_train = np.array(X_train)"
   ]
  },
  {
   "cell_type": "code",
   "execution_count": 12,
   "id": "f961afd3",
   "metadata": {},
   "outputs": [
    {
     "ename": "NameError",
     "evalue": "name 'LogisticRegression' is not defined",
     "output_type": "error",
     "traceback": [
      "\u001b[0;31m---------------------------------------------------------------------------\u001b[0m",
      "\u001b[0;31mNameError\u001b[0m                                 Traceback (most recent call last)",
      "Cell \u001b[0;32mIn [12], line 1\u001b[0m\n\u001b[0;32m----> 1\u001b[0m setosa_model \u001b[38;5;241m=\u001b[39m \u001b[43mLogisticRegression\u001b[49m(X_train, setosa)\n\u001b[1;32m      2\u001b[0m versicolor_model \u001b[38;5;241m=\u001b[39m LogisticRegression(X_train, versicolor)\n\u001b[1;32m      3\u001b[0m virginica_model \u001b[38;5;241m=\u001b[39m LogisticRegression(X_train, virginica)\n",
      "\u001b[0;31mNameError\u001b[0m: name 'LogisticRegression' is not defined"
     ]
    }
   ],
   "source": [
    "setosa_model = LogisticRegression(X_train, setosa)\n",
    "versicolor_model = LogisticRegression(X_train, versicolor)\n",
    "virginica_model = LogisticRegression(X_train, virginica)"
   ]
  },
  {
   "cell_type": "code",
   "execution_count": null,
   "id": "b9fb85dd",
   "metadata": {},
   "outputs": [],
   "source": [
    "setosa_model.train(epochs=1000)\n",
    "versicolor_model.train(epochs=1000)\n",
    "virginica_model.train(epochs=1000)"
   ]
  },
  {
   "cell_type": "code",
   "execution_count": null,
   "id": "e66d8213",
   "metadata": {},
   "outputs": [],
   "source": [
    "setosa_pred = setosa_model.predict(X_train)"
   ]
  },
  {
   "cell_type": "code",
   "execution_count": null,
   "id": "fcfb9f3e",
   "metadata": {},
   "outputs": [],
   "source": [
    "setosa_model.zdo_acc(setosa, setosa_pred)"
   ]
  },
  {
   "cell_type": "code",
   "execution_count": null,
   "id": "50e9ad5e",
   "metadata": {},
   "outputs": [],
   "source": [
    "best_setosa_w, best_setosa_b = setosa_model.best_acc(X_train, setosa)\n",
    "best_versicolor_w, best_versicolor_b = versicolor_model.best_acc(X_train, versicolor)\n",
    "best_virginica_w, best_virginica_b = virginica_model.best_acc(X_train, virginica)"
   ]
  },
  {
   "cell_type": "code",
   "execution_count": null,
   "id": "348ae365",
   "metadata": {},
   "outputs": [],
   "source": [
    "best_setosa_pred = setosa_model.predict(X_train, best_setosa_w, best_setosa_b)\n",
    "best_versicolor_pred = versicolor_model.predict(X_train, best_versicolor_w, best_versicolor_b)\n",
    "best_virginica_pred = virginica_model.predict(X_train, best_virginica_w, best_virginica_b)"
   ]
  },
  {
   "cell_type": "code",
   "execution_count": null,
   "id": "91c53ec1",
   "metadata": {},
   "outputs": [],
   "source": [
    "setosa_model.zdo_acc(setosa, best_setosa_pred)"
   ]
  },
  {
   "cell_type": "code",
   "execution_count": null,
   "id": "ce07ab07",
   "metadata": {},
   "outputs": [],
   "source": [
    "versicolor_model.zdo_acc(versicolor, best_versicolor_pred)"
   ]
  },
  {
   "cell_type": "code",
   "execution_count": null,
   "id": "54d7a27c",
   "metadata": {},
   "outputs": [],
   "source": [
    "virginica_model.zdo_acc(virginica, best_virginica_pred)"
   ]
  },
  {
   "cell_type": "code",
   "execution_count": null,
   "id": "ea3a61a3",
   "metadata": {},
   "outputs": [],
   "source": []
  }
 ],
 "metadata": {
  "kernelspec": {
   "display_name": "Python 3 (ipykernel)",
   "language": "python",
   "name": "python3"
  },
  "language_info": {
   "codemirror_mode": {
    "name": "ipython",
    "version": 3
   },
   "file_extension": ".py",
   "mimetype": "text/x-python",
   "name": "python",
   "nbconvert_exporter": "python",
   "pygments_lexer": "ipython3",
   "version": "3.10.6"
  }
 },
 "nbformat": 4,
 "nbformat_minor": 5
}
